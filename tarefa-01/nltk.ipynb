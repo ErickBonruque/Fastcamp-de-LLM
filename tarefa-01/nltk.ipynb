{
 "cells": [
  {
   "cell_type": "code",
   "execution_count": 1,
   "metadata": {},
   "outputs": [],
   "source": [
    "import nltk"
   ]
  },
  {
   "cell_type": "code",
   "execution_count": 2,
   "metadata": {},
   "outputs": [
    {
     "name": "stderr",
     "output_type": "stream",
     "text": [
      "[nltk_data] Downloading package punkt to\n",
      "[nltk_data]     C:\\Users\\bonru\\AppData\\Roaming\\nltk_data...\n",
      "[nltk_data]   Unzipping tokenizers\\punkt.zip.\n",
      "[nltk_data] Downloading package stopwords to\n",
      "[nltk_data]     C:\\Users\\bonru\\AppData\\Roaming\\nltk_data...\n",
      "[nltk_data]   Unzipping corpora\\stopwords.zip.\n",
      "[nltk_data] Downloading package wordnet to\n",
      "[nltk_data]     C:\\Users\\bonru\\AppData\\Roaming\\nltk_data...\n",
      "[nltk_data] Downloading package averaged_perceptron_tagger to\n",
      "[nltk_data]     C:\\Users\\bonru\\AppData\\Roaming\\nltk_data...\n",
      "[nltk_data]   Unzipping taggers\\averaged_perceptron_tagger.zip.\n",
      "[nltk_data] Downloading package tagsets to\n",
      "[nltk_data]     C:\\Users\\bonru\\AppData\\Roaming\\nltk_data...\n",
      "[nltk_data]   Unzipping help\\tagsets.zip.\n",
      "[nltk_data] Downloading package maxent_ne_chunker to\n",
      "[nltk_data]     C:\\Users\\bonru\\AppData\\Roaming\\nltk_data...\n",
      "[nltk_data]   Unzipping chunkers\\maxent_ne_chunker.zip.\n",
      "[nltk_data] Downloading package words to\n",
      "[nltk_data]     C:\\Users\\bonru\\AppData\\Roaming\\nltk_data...\n",
      "[nltk_data]   Unzipping corpora\\words.zip.\n"
     ]
    },
    {
     "data": {
      "text/plain": [
       "True"
      ]
     },
     "execution_count": 2,
     "metadata": {},
     "output_type": "execute_result"
    }
   ],
   "source": [
    "from nltk.corpus import stopwords\n",
    "from nltk.stem import PorterStemmer, WordNetLemmatizer, SnowballStemmer, LancasterStemmer\n",
    "from nltk.tokenize import word_tokenize, sent_tokenize\n",
    "from nltk.tag import pos_tag, pos_tag_sents\n",
    "import string\n",
    "\n",
    "nltk.download('punkt')\n",
    "nltk.download('stopwords')\n",
    "nltk.download('wordnet')\n",
    "nltk.download('averaged_perceptron_tagger')\n",
    "nltk.download('tagsets')\n",
    "nltk.download('maxent_ne_chunker')\n",
    "nltk.download('words')"
   ]
  },
  {
   "cell_type": "code",
   "execution_count": 3,
   "metadata": {},
   "outputs": [],
   "source": [
    "texto = \"Nós somos feitos de poeira de estrelas. Nós somos uma maneira de o cosmos se autoconhecer. A imaginação é mais importante que o conhecimento. A vida é o que acontece enquanto você está ocupado fazendo outros planos.\""
   ]
  },
  {
   "cell_type": "code",
   "execution_count": 4,
   "metadata": {},
   "outputs": [
    {
     "name": "stdout",
     "output_type": "stream",
     "text": [
      "<class 'list'>\n",
      "['Nós somos feitos de poeira de estrelas.', 'Nós somos uma maneira de o cosmos se autoconhecer.', 'A imaginação é mais importante que o conhecimento.', 'A vida é o que acontece enquanto você está ocupado fazendo outros planos.']\n"
     ]
    }
   ],
   "source": [
    "sentencas = sent_tokenize(texto, language='portuguese')\n",
    "print(type(sentencas))\n",
    "print(sentencas)"
   ]
  },
  {
   "cell_type": "code",
   "execution_count": 5,
   "metadata": {},
   "outputs": [
    {
     "name": "stdout",
     "output_type": "stream",
     "text": [
      "['Nós', 'somos', 'feitos', 'de', 'poeira', 'de', 'estrelas', '.', 'Nós', 'somos', 'uma', 'maneira', 'de', 'o', 'cosmos', 'se', 'autoconhecer', '.', 'A', 'imaginação', 'é', 'mais', 'importante', 'que', 'o', 'conhecimento', '.', 'A', 'vida', 'é', 'o', 'que', 'acontece', 'enquanto', 'você', 'está', 'ocupado', 'fazendo', 'outros', 'planos', '.']\n"
     ]
    }
   ],
   "source": [
    "tokens = word_tokenize(texto, language='portuguese')\n",
    "print(tokens)"
   ]
  },
  {
   "cell_type": "code",
   "execution_count": 6,
   "metadata": {},
   "outputs": [
    {
     "name": "stdout",
     "output_type": "stream",
     "text": [
      "['a', 'à', 'ao', 'aos', 'aquela', 'aquelas', 'aquele', 'aqueles', 'aquilo', 'as', 'às', 'até', 'com', 'como', 'da', 'das', 'de', 'dela', 'delas', 'dele', 'deles', 'depois', 'do', 'dos', 'e', 'é', 'ela', 'elas', 'ele', 'eles', 'em', 'entre', 'era', 'eram', 'éramos', 'essa', 'essas', 'esse', 'esses', 'esta', 'está', 'estamos', 'estão', 'estar', 'estas', 'estava', 'estavam', 'estávamos', 'este', 'esteja', 'estejam', 'estejamos', 'estes', 'esteve', 'estive', 'estivemos', 'estiver', 'estivera', 'estiveram', 'estivéramos', 'estiverem', 'estivermos', 'estivesse', 'estivessem', 'estivéssemos', 'estou', 'eu', 'foi', 'fomos', 'for', 'fora', 'foram', 'fôramos', 'forem', 'formos', 'fosse', 'fossem', 'fôssemos', 'fui', 'há', 'haja', 'hajam', 'hajamos', 'hão', 'havemos', 'haver', 'hei', 'houve', 'houvemos', 'houver', 'houvera', 'houverá', 'houveram', 'houvéramos', 'houverão', 'houverei', 'houverem', 'houveremos', 'houveria', 'houveriam', 'houveríamos', 'houvermos', 'houvesse', 'houvessem', 'houvéssemos', 'isso', 'isto', 'já', 'lhe', 'lhes', 'mais', 'mas', 'me', 'mesmo', 'meu', 'meus', 'minha', 'minhas', 'muito', 'na', 'não', 'nas', 'nem', 'no', 'nos', 'nós', 'nossa', 'nossas', 'nosso', 'nossos', 'num', 'numa', 'o', 'os', 'ou', 'para', 'pela', 'pelas', 'pelo', 'pelos', 'por', 'qual', 'quando', 'que', 'quem', 'são', 'se', 'seja', 'sejam', 'sejamos', 'sem', 'ser', 'será', 'serão', 'serei', 'seremos', 'seria', 'seriam', 'seríamos', 'seu', 'seus', 'só', 'somos', 'sou', 'sua', 'suas', 'também', 'te', 'tem', 'tém', 'temos', 'tenha', 'tenham', 'tenhamos', 'tenho', 'terá', 'terão', 'terei', 'teremos', 'teria', 'teriam', 'teríamos', 'teu', 'teus', 'teve', 'tinha', 'tinham', 'tínhamos', 'tive', 'tivemos', 'tiver', 'tivera', 'tiveram', 'tivéramos', 'tiverem', 'tivermos', 'tivesse', 'tivessem', 'tivéssemos', 'tu', 'tua', 'tuas', 'um', 'uma', 'você', 'vocês', 'vos']\n"
     ]
    }
   ],
   "source": [
    "stops = stopwords.words('portuguese')\n",
    "print(stops)"
   ]
  },
  {
   "cell_type": "code",
   "execution_count": 7,
   "metadata": {},
   "outputs": [
    {
     "name": "stdout",
     "output_type": "stream",
     "text": [
      "['Nós', 'feitos', 'poeira', 'estrelas', '.', 'Nós', 'maneira', 'cosmos', 'autoconhecer', '.', 'A', 'imaginação', 'importante', 'conhecimento', '.', 'A', 'vida', 'acontece', 'enquanto', 'ocupado', 'fazendo', 'outros', 'planos', '.']\n"
     ]
    }
   ],
   "source": [
    "palavras_sem_stopwords = [palavra for palavra in tokens if palavra not in stops]\n",
    "print(palavras_sem_stopwords)"
   ]
  },
  {
   "cell_type": "code",
   "execution_count": 9,
   "metadata": {},
   "outputs": [
    {
     "name": "stdout",
     "output_type": "stream",
     "text": [
      "[('.', 4), ('Nós', 2), ('A', 2), ('feitos', 1), ('poeira', 1), ('estrelas', 1), ('maneira', 1), ('cosmos', 1), ('autoconhecer', 1), ('imaginação', 1)]\n"
     ]
    }
   ],
   "source": [
    "frequencia = nltk.FreqDist(palavras_sem_stopwords)\n",
    "print(frequencia.most_common(10))"
   ]
  },
  {
   "cell_type": "code",
   "execution_count": 10,
   "metadata": {},
   "outputs": [
    {
     "name": "stdout",
     "output_type": "stream",
     "text": [
      "['nó', 'feito', 'poeira', 'estrela', '.', 'nó', 'maneira', 'cosmo', 'autoconhec', '.', 'a', 'imaginação', 'important', 'conhecimento', '.', 'a', 'vida', 'acontec', 'enquanto', 'ocupado', 'fazendo', 'outro', 'plano', '.']\n"
     ]
    }
   ],
   "source": [
    "stemmer = PorterStemmer()\n",
    "stem1 = [stemmer.stem(palavra) for palavra in palavras_sem_stopwords]\n",
    "print(stem1)"
   ]
  },
  {
   "cell_type": "code",
   "execution_count": 13,
   "metadata": {},
   "outputs": [
    {
     "name": "stdout",
     "output_type": "stream",
     "text": [
      "[['Nós', 'somos', 'feitos', 'de', 'poeira', 'de', 'estrelas', '.'], ['Nós', 'somos', 'uma', 'maneira', 'de', 'o', 'cosmos', 'se', 'autoconhecer', '.'], ['A', 'imaginação', 'é', 'mais', 'importante', 'que', 'o', 'conhecimento', '.'], ['A', 'vida', 'é', 'o', 'que', 'acontece', 'enquanto', 'você', 'está', 'ocupado', 'fazendo', 'outros', 'planos', '.']]\n",
      "[[('Nós', 'NNP'), ('somos', 'VBD'), ('feitos', 'NNS'), ('de', 'FW'), ('poeira', 'FW'), ('de', 'FW'), ('estrelas', 'FW'), ('.', '.')], [('Nós', 'NNP'), ('somos', 'NN'), ('uma', 'JJ'), ('maneira', 'NN'), ('de', 'IN'), ('o', 'FW'), ('cosmos', 'NNS'), ('se', 'JJ'), ('autoconhecer', 'NN'), ('.', '.')], [('A', 'DT'), ('imaginação', 'JJ'), ('é', 'NNP'), ('mais', 'NN'), ('importante', 'NN'), ('que', 'NN'), ('o', 'NN'), ('conhecimento', 'NN'), ('.', '.')], [('A', 'DT'), ('vida', 'NN'), ('é', 'NN'), ('o', 'NN'), ('que', 'NN'), ('acontece', 'RB'), ('enquanto', 'VBZ'), ('você', 'JJ'), ('está', 'NN'), ('ocupado', 'NN'), ('fazendo', 'NN'), ('outros', 'IN'), ('planos', 'NNS'), ('.', '.')]]\n"
     ]
    }
   ],
   "source": [
    "token2 = sent_tokenize(texto)\n",
    "\n",
    "ntokens = []\n",
    "for tokensentenca in token2:\n",
    "    ntokens.append(word_tokenize(tokensentenca))\n",
    "\n",
    "print(ntokens)\n",
    "\n",
    "possentenca = pos_tag_sents(ntokens)\n",
    "print(possentenca)"
   ]
  },
  {
   "cell_type": "code",
   "execution_count": 14,
   "metadata": {},
   "outputs": [
    {
     "name": "stdout",
     "output_type": "stream",
     "text": [
      "(S\n",
      "  (PERSON Barack/NNP)\n",
      "  (ORGANIZATION Obama/NNP)\n",
      "  foi/NN\n",
      "  um/JJ\n",
      "  presidente/NN\n",
      "  dos/NN\n",
      "  (PERSON Estados/NNP Unidos/NNP)\n",
      "  ./.)\n"
     ]
    }
   ],
   "source": [
    "txt = \"Barack Obama foi um presidente dos Estados Unidos.\"\n",
    "token3 = word_tokenize(txt)\n",
    "tags = pos_tag(token3)\n",
    "en = nltk.ne_chunk(tags)\n",
    "print(en)"
   ]
  },
  {
   "cell_type": "code",
   "execution_count": null,
   "metadata": {},
   "outputs": [],
   "source": []
  }
 ],
 "metadata": {
  "kernelspec": {
   "display_name": "Python 3",
   "language": "python",
   "name": "python3"
  },
  "language_info": {
   "codemirror_mode": {
    "name": "ipython",
    "version": 3
   },
   "file_extension": ".py",
   "mimetype": "text/x-python",
   "name": "python",
   "nbconvert_exporter": "python",
   "pygments_lexer": "ipython3",
   "version": "3.11.8"
  }
 },
 "nbformat": 4,
 "nbformat_minor": 2
}
